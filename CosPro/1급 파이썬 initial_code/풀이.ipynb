{
 "cells": [
  {
   "cell_type": "code",
   "execution_count": 44,
   "metadata": {},
   "outputs": [
    {
     "name": "stdout",
     "output_type": "stream",
     "text": [
      "1 -1000000001\n",
      "1 1\n",
      "1 2\n",
      "Solution: return value of the function is 2 .\n",
      "3 -1000000001\n",
      "1 -2\n",
      "Solution: return value of the function is -2 .\n"
     ]
    }
   ],
   "source": [
    "def solution(prices):\n",
    "    INF = 1000000001;\n",
    "    tmp = INF\n",
    "    answer = -INF\n",
    "    for price in prices:\n",
    "        if tmp != INF:\n",
    "            answer = max(answer, price - tmp)\n",
    "        tmp = min(tmp, price)\n",
    "        print(tmp, answer)\n",
    "    return answer\n",
    "\n",
    "#The following is code to output testcase. The code below is correct and you shall correct solution function.\n",
    "prices1 = [1, 2, 3];\n",
    "ret1 = solution(prices1);\n",
    "\n",
    "#Press Run button to receive output.\n",
    "print(\"Solution: return value of the function is\", ret1, \".\")\n",
    "    \n",
    "prices2 = [3, 1];\n",
    "ret2 = solution(prices2);\n",
    "\n",
    "#Press Run button to receive output.\n",
    "print(\"Solution: return value of the function is\", ret2, \".\")"
   ]
  }
 ],
 "metadata": {
  "kernelspec": {
   "display_name": "Python 3",
   "language": "python",
   "name": "python3"
  },
  "language_info": {
   "codemirror_mode": {
    "name": "ipython",
    "version": 3
   },
   "file_extension": ".py",
   "mimetype": "text/x-python",
   "name": "python",
   "nbconvert_exporter": "python",
   "pygments_lexer": "ipython3",
   "version": "3.11.5"
  },
  "orig_nbformat": 4
 },
 "nbformat": 4,
 "nbformat_minor": 2
}
